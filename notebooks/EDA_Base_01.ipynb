{
 "cells": [
  {
   "cell_type": "code",
   "execution_count": null,
   "metadata": {},
   "outputs": [],
   "source": [
    "import pandas as pd\n",
    "import matplotlib.pyplot as plt"
   ]
  },
  {
   "cell_type": "code",
   "execution_count": null,
   "metadata": {},
   "outputs": [],
   "source": [
    "# Especifique o caminho para o seu arquivo .xlsx\n",
    "PATH = 'data/Base_para_OPENEVOC.xlsx'\n",
    "\n",
    "try:\n",
    "  # Lê o arquivo Excel para um DataFrame\n",
    "  # Por padrão, lê a primeira planilha (sheet) do arquivo\n",
    "  df = pd.read_excel(PATH)\n",
    "\n",
    "  # Exibe as primeiras linhas do DataFrame para verificar\n",
    "  print(\"Arquivo carregado com sucesso! Primeiras linhas:\")\n",
    "  print(df.head())\n",
    "\n",
    "except FileNotFoundError:\n",
    "  print(f\"Erro: O arquivo '{PATH}' não foi encontrado.\")\n",
    "except Exception as e:\n",
    "  print(f\"Ocorreu um erro ao ler o arquivo: {e}\")"
   ]
  }
 ],
 "metadata": {
  "kernelspec": {
   "display_name": "virtualenv",
   "language": "python",
   "name": "python3"
  },
  "language_info": {
   "name": "python",
   "version": "3.13.2"
  }
 },
 "nbformat": 4,
 "nbformat_minor": 2
}
